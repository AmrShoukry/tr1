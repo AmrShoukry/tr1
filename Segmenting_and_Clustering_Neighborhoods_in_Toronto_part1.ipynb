{
  "nbformat": 4,
  "nbformat_minor": 0,
  "metadata": {
    "colab": {
      "name": "Segmenting and Clustering Neighborhoods in Toronto part1.ipynb",
      "provenance": [],
      "collapsed_sections": []
    },
    "kernelspec": {
      "name": "python3",
      "display_name": "Python 3"
    }
  },
  "cells": [
    {
      "cell_type": "markdown",
      "metadata": {
        "id": "e9S3rCKvudIh",
        "colab_type": "text"
      },
      "source": [
        "**To create the above dataframe:**\n",
        "\n",
        "\n",
        "*   The dataframe will consist of three columns: PostalCode, Borough, and Neighborhood\n",
        "\n",
        "*   Only process the cells that have an assigned borough. Ignore cells with a borough that is Not assigned.\n",
        "\n",
        "\n",
        "*   More than one neighborhood can exist in one postal code area. For example, in the table on the Wikipedia page, you will notice that M5A is listed twice and has two neighborhoods: Harbourfront and Regent Park. These two rows will be combined into one row with the neighborhoods separated with a comma as shown in row 11 in the above table.\n",
        "\n",
        "*   If a cell has a borough but a Not assigned neighborhood, then the neighborhood will be the same as the borough.\n",
        "\n",
        "\n",
        "*   Clean your Notebook and add Markdown cells to explain your work and any assumptions you are making.\n",
        "\n",
        "*   In the last cell of your notebook, use the .shape method to print the number of rows of your dataframe.\n",
        "\n",
        "\n",
        "\n",
        "\n",
        "\n",
        "\n"
      ]
    },
    {
      "cell_type": "markdown",
      "metadata": {
        "id": "an5him8QvO4y",
        "colab_type": "text"
      },
      "source": [
        "**Imports**"
      ]
    },
    {
      "cell_type": "code",
      "metadata": {
        "id": "utyvyJRSRLzz",
        "colab_type": "code",
        "colab": {}
      },
      "source": [
        "import numpy as np\n",
        "import pandas as pd"
      ],
      "execution_count": 107,
      "outputs": []
    },
    {
      "cell_type": "markdown",
      "metadata": {
        "id": "YQO55vPkvTdc",
        "colab_type": "text"
      },
      "source": [
        "**Getting the table**"
      ]
    },
    {
      "cell_type": "code",
      "metadata": {
        "id": "VS-A27eERmsP",
        "colab_type": "code",
        "colab": {
          "base_uri": "https://localhost:8080/",
          "height": 421
        },
        "outputId": "57e9dd2f-a215-4089-93a1-4b04c7890ad3"
      },
      "source": [
        "# reading the html page using pandas\n",
        "df_p = pd.read_html(\"https://en.wikipedia.org/wiki/List_of_postal_codes_of_Canada:_M\")\n",
        "\n",
        "# get the table we need in this assignment\n",
        "df_d = df_p[0]\n",
        "\n",
        "# make a new dataframe without not assigned Borough\n",
        "df_f = df_d[df_d[\"Borough\"] != \"Not assigned\"].reset_index(drop=True)\n",
        "\n",
        "# replace not assigned neighbourhoods with borough's value\n",
        "df_f['Neighbourhood'] = np.where(df_f['Neighbourhood'] == 'Not assigned', df_f['Borough'], df_f['Neighbourhood'])\n",
        "\n",
        "# rename the columns : Postal Code and Neighbourhood to be PostalCode and Neighborhood\n",
        "df_f.rename(columns={\"Postal Code\": \"PostalCode\", \"Neighbourhood\": \"Neighborhood\"}, inplace=True)\n",
        "\n",
        "# get the first 12 rows of the data\n",
        "df_f.head(12)"
      ],
      "execution_count": 108,
      "outputs": [
        {
          "output_type": "execute_result",
          "data": {
            "text/html": [
              "<div>\n",
              "<style scoped>\n",
              "    .dataframe tbody tr th:only-of-type {\n",
              "        vertical-align: middle;\n",
              "    }\n",
              "\n",
              "    .dataframe tbody tr th {\n",
              "        vertical-align: top;\n",
              "    }\n",
              "\n",
              "    .dataframe thead th {\n",
              "        text-align: right;\n",
              "    }\n",
              "</style>\n",
              "<table border=\"1\" class=\"dataframe\">\n",
              "  <thead>\n",
              "    <tr style=\"text-align: right;\">\n",
              "      <th></th>\n",
              "      <th>PostalCode</th>\n",
              "      <th>Borough</th>\n",
              "      <th>Neighborhood</th>\n",
              "    </tr>\n",
              "  </thead>\n",
              "  <tbody>\n",
              "    <tr>\n",
              "      <th>0</th>\n",
              "      <td>M3A</td>\n",
              "      <td>North York</td>\n",
              "      <td>Parkwoods</td>\n",
              "    </tr>\n",
              "    <tr>\n",
              "      <th>1</th>\n",
              "      <td>M4A</td>\n",
              "      <td>North York</td>\n",
              "      <td>Victoria Village</td>\n",
              "    </tr>\n",
              "    <tr>\n",
              "      <th>2</th>\n",
              "      <td>M5A</td>\n",
              "      <td>Downtown Toronto</td>\n",
              "      <td>Regent Park, Harbourfront</td>\n",
              "    </tr>\n",
              "    <tr>\n",
              "      <th>3</th>\n",
              "      <td>M6A</td>\n",
              "      <td>North York</td>\n",
              "      <td>Lawrence Manor, Lawrence Heights</td>\n",
              "    </tr>\n",
              "    <tr>\n",
              "      <th>4</th>\n",
              "      <td>M7A</td>\n",
              "      <td>Downtown Toronto</td>\n",
              "      <td>Queen's Park, Ontario Provincial Government</td>\n",
              "    </tr>\n",
              "    <tr>\n",
              "      <th>5</th>\n",
              "      <td>M9A</td>\n",
              "      <td>Etobicoke</td>\n",
              "      <td>Islington Avenue, Humber Valley Village</td>\n",
              "    </tr>\n",
              "    <tr>\n",
              "      <th>6</th>\n",
              "      <td>M1B</td>\n",
              "      <td>Scarborough</td>\n",
              "      <td>Malvern, Rouge</td>\n",
              "    </tr>\n",
              "    <tr>\n",
              "      <th>7</th>\n",
              "      <td>M3B</td>\n",
              "      <td>North York</td>\n",
              "      <td>Don Mills</td>\n",
              "    </tr>\n",
              "    <tr>\n",
              "      <th>8</th>\n",
              "      <td>M4B</td>\n",
              "      <td>East York</td>\n",
              "      <td>Parkview Hill, Woodbine Gardens</td>\n",
              "    </tr>\n",
              "    <tr>\n",
              "      <th>9</th>\n",
              "      <td>M5B</td>\n",
              "      <td>Downtown Toronto</td>\n",
              "      <td>Garden District, Ryerson</td>\n",
              "    </tr>\n",
              "    <tr>\n",
              "      <th>10</th>\n",
              "      <td>M6B</td>\n",
              "      <td>North York</td>\n",
              "      <td>Glencairn</td>\n",
              "    </tr>\n",
              "    <tr>\n",
              "      <th>11</th>\n",
              "      <td>M9B</td>\n",
              "      <td>Etobicoke</td>\n",
              "      <td>West Deane Park, Princess Gardens, Martin Grov...</td>\n",
              "    </tr>\n",
              "  </tbody>\n",
              "</table>\n",
              "</div>"
            ],
            "text/plain": [
              "   PostalCode  ...                                       Neighborhood\n",
              "0         M3A  ...                                          Parkwoods\n",
              "1         M4A  ...                                   Victoria Village\n",
              "2         M5A  ...                          Regent Park, Harbourfront\n",
              "3         M6A  ...                   Lawrence Manor, Lawrence Heights\n",
              "4         M7A  ...        Queen's Park, Ontario Provincial Government\n",
              "5         M9A  ...            Islington Avenue, Humber Valley Village\n",
              "6         M1B  ...                                     Malvern, Rouge\n",
              "7         M3B  ...                                          Don Mills\n",
              "8         M4B  ...                    Parkview Hill, Woodbine Gardens\n",
              "9         M5B  ...                           Garden District, Ryerson\n",
              "10        M6B  ...                                          Glencairn\n",
              "11        M9B  ...  West Deane Park, Princess Gardens, Martin Grov...\n",
              "\n",
              "[12 rows x 3 columns]"
            ]
          },
          "metadata": {
            "tags": []
          },
          "execution_count": 108
        }
      ]
    },
    {
      "cell_type": "markdown",
      "metadata": {
        "id": "4Rhj1V9tvcBK",
        "colab_type": "text"
      },
      "source": [
        "**Shape**"
      ]
    },
    {
      "cell_type": "code",
      "metadata": {
        "id": "irr8-QAERrBP",
        "colab_type": "code",
        "colab": {
          "base_uri": "https://localhost:8080/",
          "height": 34
        },
        "outputId": "94cb78d9-7ed5-452b-d8eb-7d5c87f03e09"
      },
      "source": [
        "# get the size of our dataframe\n",
        "df_f.shape"
      ],
      "execution_count": 109,
      "outputs": [
        {
          "output_type": "execute_result",
          "data": {
            "text/plain": [
              "(103, 3)"
            ]
          },
          "metadata": {
            "tags": []
          },
          "execution_count": 109
        }
      ]
    }
  ]
}